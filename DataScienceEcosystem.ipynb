{
 "cells": [
  {
   "cell_type": "markdown",
   "id": "702f44a6-705a-4e5a-8240-031dd307678d",
   "metadata": {},
   "source": [
    "# Data Science Tools and Ecosystem"
   ]
  },
  {
   "cell_type": "markdown",
   "id": "44b9d02c-0b25-4d48-9aaf-a3d796d803f9",
   "metadata": {},
   "source": [
    "## Author\n",
    "Guangyang \"Andy\" Cai"
   ]
  },
  {
   "cell_type": "markdown",
   "id": "c71df83f-ec94-4668-8611-ec68d732ce65",
   "metadata": {},
   "source": [
    "#### In this notebook, Data Science Tools and Ecosystem are summarized."
   ]
  },
  {
   "cell_type": "markdown",
   "id": "b98bd162-e8c1-460d-9786-60faac1d8499",
   "metadata": {},
   "source": [
    "**Objectives**\n",
    "- List popular languages for Data Science\n",
    "- List commonly used libraries in Data Science\n",
    "- List open-source Data Science environments\n",
    "- Example code cells for arithmetic evaluations in Python"
   ]
  },
  {
   "cell_type": "markdown",
   "id": "4adfd81c-6585-4f98-b0ed-fd1c492d14ba",
   "metadata": {},
   "source": [
    "#### Some of the popular languages that Data Scientists use are:\n",
    "1. Python\n",
    "2. R\n",
    "3. SQL\n",
    "4. Java\n",
    "5. JavaScript\n",
    "6. C++"
   ]
  },
  {
   "cell_type": "markdown",
   "id": "5ec5847c-39b5-4358-bf63-cf94eddeddea",
   "metadata": {},
   "source": [
    "#### Some of the commonly used libraries used by Data Scientists include:\n",
    "1. NumPy\n",
    "2. Pandas\n",
    "3. Matplotlib\n",
    "4. Seaborn\n",
    "5. Pytorch\n",
    "6. TensorFlow\n",
    "7. ggplot2"
   ]
  },
  {
   "cell_type": "markdown",
   "id": "706c4572-725b-4830-9743-93ccc732ed29",
   "metadata": {},
   "source": [
    "| Data Science Tools |\n",
    "| ------------------ |\n",
    "| Jupyter Notebooks |\n",
    "| Jupyter Lab |\n",
    "| RStudio |\n",
    "| Apache Spark |\n",
    "| Apache Flink |\n",
    "| Spyder |"
   ]
  },
  {
   "cell_type": "markdown",
   "id": "e52b3266-de22-4c68-97ba-4f40a7c34f28",
   "metadata": {},
   "source": [
    "### Below are a few examples of evaluating arithmetic expressions in Python."
   ]
  },
  {
   "cell_type": "code",
   "execution_count": 1,
   "id": "152e3dbe-c440-4f13-ad5b-c56a6bea8ca3",
   "metadata": {},
   "outputs": [
    {
     "data": {
      "text/plain": [
       "17"
      ]
     },
     "execution_count": 1,
     "metadata": {},
     "output_type": "execute_result"
    }
   ],
   "source": [
    "# This is a simple arithmetic expression to multiply then add integers.\n",
    "(3*4)+5"
   ]
  },
  {
   "cell_type": "code",
   "execution_count": 2,
   "id": "7c61d075-95a5-457f-bc02-d701530cd6bf",
   "metadata": {},
   "outputs": [
    {
     "data": {
      "text/plain": [
       "3.3333333333333335"
      ]
     },
     "execution_count": 2,
     "metadata": {},
     "output_type": "execute_result"
    }
   ],
   "source": [
    "# This will convert 200 minutes to hours by dividing by 60.\n",
    "200 / 60"
   ]
  },
  {
   "cell_type": "code",
   "execution_count": null,
   "id": "cf5d57af-67c2-4c7b-875c-14b0d457955d",
   "metadata": {},
   "outputs": [],
   "source": []
  }
 ],
 "metadata": {
  "kernelspec": {
   "display_name": "Python 3 (ipykernel)",
   "language": "python",
   "name": "python3"
  },
  "language_info": {
   "codemirror_mode": {
    "name": "ipython",
    "version": 3
   },
   "file_extension": ".py",
   "mimetype": "text/x-python",
   "name": "python",
   "nbconvert_exporter": "python",
   "pygments_lexer": "ipython3",
   "version": "3.12.4"
  }
 },
 "nbformat": 4,
 "nbformat_minor": 5
}
